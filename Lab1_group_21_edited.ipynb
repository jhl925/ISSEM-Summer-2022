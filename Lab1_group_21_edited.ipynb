{
 "cells": [
  {
   "cell_type": "markdown",
   "metadata": {
    "pycharm": {
     "name": "#%% md\n"
    }
   },
   "source": [
    "# Lab1"
   ]
  },
  {
   "cell_type": "markdown",
   "metadata": {
    "jupyter": {
     "outputs_hidden": false
    },
    "pycharm": {
     "name": "#%%\n"
    }
   },
   "source": [
    "Group = \"21\"\n",
    "Course = \"ISSEM\"\n",
    "Lab = \"Lab1\"\n",
    "print(\"Group:\"+Group, Lab, \"Course:\"+Course)\n",
    "Group Members: JHL925"
   ]
  },
  {
   "cell_type": "code",
   "execution_count": 7,
   "metadata": {
    "collapsed": false,
    "jupyter": {
     "outputs_hidden": false
    },
    "pycharm": {
     "name": "#%%\n"
    }
   },
   "outputs": [
    {
     "name": "stdout",
     "output_type": "stream",
     "text": [
      "<class 'int'>\n",
      "<class 'str'>\n",
      "<class 'list'>\n"
     ]
    }
   ],
   "source": [
    "X=7 # type int\n",
    "print(type(X))\n",
    "Y='ISSEM' #type str\n",
    "print(type(Y))\n",
    "Z=[\"red\",\"blue\",\"green\"] #type list\n",
    "print(type(Z))"
   ]
  },
  {
   "cell_type": "code",
   "execution_count": 8,
   "metadata": {
    "collapsed": false,
    "jupyter": {
     "outputs_hidden": false
    },
    "pycharm": {
     "name": "#%%\n"
    }
   },
   "outputs": [],
   "source": [
    "\"\"\"This Code flips the first two words and last two words in a string separated by spaces.\"\"\"\n",
    "str=\"The quick brown fox jumps over the lazy dog\"\n",
    "arr = str.split(\" \") #splitting string on spaces into array of strings\n",
    "temp=[] # create temp holding object\n",
    "temp.append(arr[0]) # adding first string(The) to temp list\n",
    "temp.append(arr[1]) # adding 2nd string(quick) to temp list\n",
    "arr[0]= arr[len(arr)-2] # set first item in list to the 2nd to last string(lazy).\n",
    "arr[1]= arr[len(arr)-1] # set the 2nd item in the list to the last string (dog).\n",
    "arr[len(arr)-2] = temp[0] # set 2nd to last item in list to the original first string(The)\n",
    "arr[len(arr)-1] = temp[1] # set last item in list to the original second string(quick)\n",
    "str=' '.join(arr) # recombine strings from list in to a single string variable"
   ]
  },
  {
   "cell_type": "code",
   "execution_count": 42,
   "metadata": {},
   "outputs": [],
   "source": [
    "def dummy(var):\n",
    " x=str(var)\n",
    " y=len(x)-1\n",
    " z=''\n",
    " while y >= 0:\n",
    "     z = z + x[y]\n",
    "     y -=1\n",
    " return int(z) if isinstance(var, int) else float(z) # here just check if it was float of int\n",
    "\n",
    "#As we can see, this function inverts the number given to it, giving the numbers in the opposite order - from last to first. For compatibility with float, we had to modify the last line of the function. Now briefly on the structure and functionality of the function. First, the input is converted to a string to access individual digits in the sequence. Then a variable z is created, in which the result of the work will be written, as well as a counter y, which will indicate which element in the sequence we are currently working with. It is important that this counter first points to the last element of the sequence. Then iteratively the following happens: we take an element according to the counter and add it to the variable of the result, then reduce the index of the counter to take the previous digit in the next iteration. Thus we iterate to the initial digit, then exit the loop. The last step is to convert the result-string back to a number and return from the function."
   ]
  },
  {
   "cell_type": "code",
   "execution_count": 43,
   "metadata": {
    "collapsed": false,
    "jupyter": {
     "outputs_hidden": false
    },
    "pycharm": {
     "name": "#%%\n"
    }
   },
   "outputs": [
    {
     "name": "stdout",
     "output_type": "stream",
     "text": [
      "121 is palindrome? True\n",
      "123 is palindrome? False\n",
      "414 is palindrome? True\n",
      "866.988 is palindrome? False\n",
      "101 is palindrome? True\n"
     ]
    }
   ],
   "source": [
    "print(\"121 is palindrome?\", 121 == dummy(121))\n",
    "print(\"123 is palindrome?\", 123 == dummy(123))\n",
    "print(\"414 is palindrome?\", 414 == dummy(414))\n",
    "print(\"866.988 is palindrome?\", 866.988 == dummy(866.988))\n",
    "print(\"101 is palindrome?\", 101 == dummy(101))"
   ]
  },
  {
   "cell_type": "code",
   "execution_count": 36,
   "metadata": {
    "collapsed": false,
    "jupyter": {
     "outputs_hidden": false
    },
    "pycharm": {
     "name": "#%%\n"
    }
   },
   "outputs": [],
   "source": [
    "def Calculate_Discount(price):\n",
    "    if price >= 500:\n",
    "        final_price = price * (70/100)\n",
    "        final_price = round(final_price, 2)\n",
    "    elif price >= 350 and price < 500:\n",
    "        final_price = price * (80/100)\n",
    "        final_price = round(final_price, 2)\n",
    "    elif price >= 150 and price < 350:\n",
    "        final_price = price * (90/100)\n",
    "        final_price = round(final_price, 2)\n",
    "    elif price >= 10 and price < 150:\n",
    "        final_price = price * (95/100)\n",
    "        final_price = round(final_price, 2)\n",
    "    elif price > 0 and price < 10:\n",
    "        final_price = price * (50/100)\n",
    "        final_price = round(final_price, 2)\n",
    "    else:\n",
    "        final_price = \"Price cannot be negative. Please enter a positive value.\"\n",
    "    return final_price\n"
   ]
  },
  {
   "cell_type": "code",
   "execution_count": 35,
   "metadata": {
    "collapsed": false,
    "jupyter": {
     "outputs_hidden": false
    },
    "pycharm": {
     "name": "#%%\n"
    }
   },
   "outputs": [
    {
     "name": "stdout",
     "output_type": "stream",
     "text": [
      "The discount for an item priced at $440 is: $352.0\n",
      "The discount for an item priced at $265 is: $238.5\n",
      "The discount for an item priced at $144 is: $136.8\n",
      "The discount for an item priced at $-10 is: $Price cannot be negative. Please enter a positive value.\n",
      "The discount for an item priced at $8 is: $4.0\n"
     ]
    }
   ],
   "source": [
    "items=[440,265,144,-10,8]\n",
    "for item in items:\n",
    "    #Calculate_Discount(item)\n",
    "    print(\"The discount for an item priced at $\"+str(item), \"is: $\"+str(Calculate_Discount(item)))"
   ]
  },
  {
   "cell_type": "code",
   "execution_count": null,
   "metadata": {},
   "outputs": [],
   "source": []
  }
 ],
 "metadata": {
  "kernelspec": {
   "display_name": "Python 3 (ipykernel)",
   "language": "python",
   "name": "python3"
  },
  "language_info": {
   "codemirror_mode": {
    "name": "ipython",
    "version": 3
   },
   "file_extension": ".py",
   "mimetype": "text/x-python",
   "name": "python",
   "nbconvert_exporter": "python",
   "pygments_lexer": "ipython3",
   "version": "3.10.4"
  }
 },
 "nbformat": 4,
 "nbformat_minor": 4
}
