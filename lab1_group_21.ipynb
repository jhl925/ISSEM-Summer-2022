{
 "cells": [
  {
   "cell_type": "markdown",
   "metadata": {
    "collapsed": true,
    "pycharm": {
     "name": "#%% md\n"
    }
   },
   "source": [
    "# Lab1"
    "## Group Members: (Andrew Quijano, afq2003), (Isaiah Genis | ig596), (Jamie Leach | jhl925), (Yevhen Pankevych | yp2525)"
   ]
  },
  {
   "cell_type": "code",
   "execution_count": 6,
   "outputs": [
    {
     "name": "stdout",
     "output_type": "stream",
     "text": [
      "Group:21 Lab1 Course:ISSEM\n"
     ]
    }
   ],
   "source": [
    "Group = \"21\"\n",
    "Course = \"ISSEM\"\n",
    "Lab = \"Lab1\"\n",
    "print(\"Group:\"+Group, Lab, \"Course:\"+Course)"
   ],
   "metadata": {
    "collapsed": false,
    "pycharm": {
     "name": "#%%\n"
    }
   }
  },
  {
   "cell_type": "code",
   "execution_count": 7,
   "outputs": [
    {
     "name": "stdout",
     "output_type": "stream",
     "text": [
      "<class 'int'>\n",
      "<class 'str'>\n",
      "<class 'list'>\n"
     ]
    }
   ],
   "source": [
    "X=7 # type int\n",
    "print(type(X))\n",
    "Y='ISSEM' #type str\n",
    "print(type(Y))\n",
    "Z=[\"red\",\"blue\",\"green\"] #type list\n",
    "print(type(Z))"
   ],
   "metadata": {
    "collapsed": false,
    "pycharm": {
     "name": "#%%\n"
    }
   }
  },
  {
   "cell_type": "code",
   "source": [
    "\"\"\"This Code flips the first two words and last two words in a string separated by spaces.\"\"\"\n",
    "str=\"The quick brown fox jumps over the lazy dog\"\n",
    "arr = str.split(\" \") #splitting string on spaces into array of strings\n",
    "temp=[] # create temp holding object\n",
    "temp.append(arr[0]) # adding first string(The) to temp list\n",
    "temp.append(arr[1]) # adding 2nd string(quick) to temp list\n",
    "arr[0]= arr[len(arr)-2] # set first item in list to the 2nd to last string(lazy).\n",
    "arr[1]= arr[len(arr)-1] # set the 2nd item in the list to the last string (dog).\n",
    "arr[len(arr)-2] = temp[0] # set 2nd to last item in list to the original first string(The)\n",
    "arr[len(arr)-1] = temp[1] # set last item in list to the original second string(quick)\n",
    "str=' '.join(arr) # recombine strings from list in to a single string variable"
   ],
   "metadata": {
    "collapsed": false,
    "pycharm": {
     "name": "#%%\n"
    }
   },
   "execution_count": 8,
   "outputs": []
  },
  {
   "cell_type": "code",
   "execution_count": 9,
   "outputs": [],
   "source": [
    "\n",
    "\"\"\"\n",
    "This function doesn't seem to run properly given the override of str in the above section. del str used below to correct that.\n",
    "\"\"\"\n",
    "del str\n",
    "def dummy(var):\n",
    "    x=str(var)\n",
    "    # cast input to a string if so number 121 is treated as string \"121\" if it is already a string \"the\" no change.\n",
    "    y=len(x)-1 # calculate the number of characters in the input -1  \"the\" and 121 would set y =2\n",
    "    z='' # empty character variable\n",
    "    while y >= 0: # Loop through while the string has remaining characters. First Round y=2. 2nd Round y=1. 3rd Round y=0. 4 Round y=-1 breaking while condition and exiting loop.\n",
    "        z = z + x[y] # concatante z with the last character of string x. First round for \"the\" would be z= '' + 'e' = 'e'. If input 121 first round z=''+'1'='1'. 2nd round for \"the\" z='e'+'h'='eh'. 2nd round for 121 z='1'+'2'='12'. For 3rd round \"the\" z='eh'+'t'='eht'. 3rd round for 121 z='12'+'1'='121'\n",
    "        y -=1 # decrement y. First round y=2-1=1. 2nd round y=1-1=0. 3rd round y=0-1=-1\n",
    "    return int(z) # return reversed input as integer for input 121 returns 121 for input \"the\" returns\n"
   ],
   "metadata": {
    "collapsed": false,
    "pycharm": {
     "name": "#%%\n"
    }
   }
  },
  {
   "cell_type": "code",
   "execution_count": 10,
   "outputs": [
    {
     "ename": "ValueError",
     "evalue": "invalid literal for int() with base 10: '889.668'",
     "output_type": "error",
     "traceback": [
      "\u001B[0;31m---------------------------------------------------------------------------\u001B[0m",
      "\u001B[0;31mValueError\u001B[0m                                Traceback (most recent call last)",
      "Input \u001B[0;32mIn [10]\u001B[0m, in \u001B[0;36m<cell line: 8>\u001B[0;34m()\u001B[0m\n\u001B[1;32m      7\u001B[0m items\u001B[38;5;241m=\u001B[39m[\u001B[38;5;241m121\u001B[39m, \u001B[38;5;241m123\u001B[39m, \u001B[38;5;241m414\u001B[39m, \u001B[38;5;241m866.988\u001B[39m, \u001B[38;5;241m101\u001B[39m]\n\u001B[1;32m      8\u001B[0m \u001B[38;5;28;01mfor\u001B[39;00m item \u001B[38;5;129;01min\u001B[39;00m items:\n\u001B[0;32m----> 9\u001B[0m     \u001B[43mis_pallidrome\u001B[49m\u001B[43m(\u001B[49m\u001B[43mitem\u001B[49m\u001B[43m)\u001B[49m\n",
      "Input \u001B[0;32mIn [10]\u001B[0m, in \u001B[0;36mis_pallidrome\u001B[0;34m(var)\u001B[0m\n\u001B[1;32m      1\u001B[0m \u001B[38;5;28;01mdef\u001B[39;00m \u001B[38;5;21mis_pallidrome\u001B[39m(var):\n\u001B[0;32m----> 2\u001B[0m     tmp\u001B[38;5;241m=\u001B[39m\u001B[43mdummy\u001B[49m\u001B[43m(\u001B[49m\u001B[43mvar\u001B[49m\u001B[43m)\u001B[49m\n\u001B[1;32m      3\u001B[0m     \u001B[38;5;28;01mif\u001B[39;00m \u001B[38;5;28mint\u001B[39m(\u001B[38;5;28mstr\u001B[39m(var))\u001B[38;5;241m==\u001B[39mtmp:\n\u001B[1;32m      4\u001B[0m         \u001B[38;5;28;01mreturn\u001B[39;00m \u001B[38;5;28;01mTrue\u001B[39;00m\n",
      "Input \u001B[0;32mIn [9]\u001B[0m, in \u001B[0;36mdummy\u001B[0;34m(var)\u001B[0m\n\u001B[1;32m     11\u001B[0m     z \u001B[38;5;241m=\u001B[39m z \u001B[38;5;241m+\u001B[39m x[y] \u001B[38;5;66;03m# concatante z with the last character of string x. First round for \"the\" would be z= '' + 'e' = 'e'. If input 121 first round z=''+'1'='1'. 2nd round for \"the\" z='e'+'h'='eh'. 2nd round for 121 z='1'+'2'='12'. For 3rd round \"the\" z='eh'+'t'='eht'. 3rd round for 121 z='12'+'1'='121'\u001B[39;00m\n\u001B[1;32m     12\u001B[0m     y \u001B[38;5;241m-\u001B[39m\u001B[38;5;241m=\u001B[39m\u001B[38;5;241m1\u001B[39m \u001B[38;5;66;03m# decrement y. First round y=2-1=1. 2nd round y=1-1=0. 3rd round y=0-1=-1\u001B[39;00m\n\u001B[0;32m---> 13\u001B[0m \u001B[38;5;28;01mreturn\u001B[39;00m \u001B[38;5;28;43mint\u001B[39;49m\u001B[43m(\u001B[49m\u001B[43mz\u001B[49m\u001B[43m)\u001B[49m\n",
      "\u001B[0;31mValueError\u001B[0m: invalid literal for int() with base 10: '889.668'"
     ]
    }
   ],
   "source": [
    "def is_pallidrome(var):\n",
    "    tmp=dummy(var)\n",
    "    if int(str(var))==tmp:\n",
    "        return True\n",
    "    else:\n",
    "        return False\n",
    "items=[121, 123, 414, 866.988, 101]\n",
    "for item in items:\n",
    "    is_pallidrome(item)"
   ],
   "metadata": {
    "collapsed": false,
    "pycharm": {
     "name": "#%%\n"
    }
   }
  },
  {
   "cell_type": "code",
   "execution_count": null,
   "outputs": [],
   "source": [
    "def Calculate_Discount(price):\n",
    "    if price >= 500:\n",
    "        final_price = price * (70/100)\n",
    "    elif price >= 350 and price < 500:\n",
    "        final_price = price * (80/100)\n",
    "    elif price >= 150 and price < 350:\n",
    "        final_price = price * (90/100)\n",
    "    elif price >= 10 and price < 150:\n",
    "        final_price = price * (95/100)\n",
    "    elif price > 0 and price < 10:\n",
    "        final_price = price * (50/100)\n",
    "    else:\n",
    "        final_price = \"Price cannot be negative. Please enter a positive value.\"\n",
    "    return final_price\n",
    "items=[440,265,144,-10,8]\n",
    "for item in items:\n",
    "    Calculate_Discount(item)"
   ],
   "metadata": {
    "collapsed": false,
    "pycharm": {
     "name": "#%%\n"
    }
   }
  },
  {
   "cell_type": "code",
   "execution_count": null,
   "outputs": [],
   "source": [],
   "metadata": {
    "collapsed": false,
    "pycharm": {
     "name": "#%%\n"
    }
   }
  }
 ],
 "metadata": {
  "kernelspec": {
   "display_name": "Python 3",
   "language": "python",
   "name": "python3"
  },
  "language_info": {
   "codemirror_mode": {
    "name": "ipython",
    "version": 2
   },
   "file_extension": ".py",
   "mimetype": "text/x-python",
   "name": "python",
   "nbconvert_exporter": "python",
   "pygments_lexer": "ipython2",
   "version": "2.7.6"
  }
 },
 "nbformat": 4,
 "nbformat_minor": 0
}
